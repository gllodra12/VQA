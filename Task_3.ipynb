{
 "cells": [
  {
   "cell_type": "markdown",
   "metadata": {},
   "source": [
    "# Training a variational quantum circuit with Pennylane\n",
    "\n",
    "In this notebook, we will learn how to build and train a variational quantum circuit (VQA) to generate a predefined 4 qubit target state from a 4 qubit random state of our choice.  "
   ]
  },
  {
   "cell_type": "code",
   "execution_count": 1,
   "metadata": {},
   "outputs": [],
   "source": [
    "import matplotlib.pyplot as plt\n",
    "import numpy\n",
    "\n",
    "from pennylane import numpy as np\n",
    "import pennylane as qml\n",
    "import torch\n",
    "from torch.autograd import Variable"
   ]
  },
  {
   "cell_type": "markdown",
   "metadata": {},
   "source": [
    "## Introduction\n",
    "\n",
    "Given the following predefined 4 qubit states: $\\lvert 0011 \\rangle$, $\\lvert 0101 \\rangle$, $\\lvert 1010 \\rangle$, $\\lvert 1100 \\rangle$. Our goal is to create a quantum circuit that can do the following mapping:\n",
    "\n",
    "- Initial random state 1, returns $\\lvert 0011 \\rangle$.\n",
    "- Initial random state 2, returns $\\lvert 0101 \\rangle$.\n",
    "- Initial random state 3, returns $\\lvert 1010 \\rangle$.\n",
    "- Initial random state 4, returns $\\lvert 1100 \\rangle$.\n",
    "\n",
    "However, for the sake of simplicity in the first section, I am going to also predefine the initial random state. In the second section, we will see how the code in the first section can be extended to solve the initial statement.\n",
    "\n",
    "$$\\lvert 0001 \\rangle \\rightarrow  \\lvert 0011 \\rangle $$\n",
    "$$\\lvert 0010 \\rangle \\rightarrow  \\lvert 0101 \\rangle $$\n",
    "$$\\lvert 0100 \\rangle \\rightarrow  \\lvert 1010 \\rangle $$\n",
    "$$\\lvert 1000 \\rangle \\rightarrow  \\lvert 1100 \\rangle $$\n"
   ]
  },
  {
   "cell_type": "code",
   "execution_count": 2,
   "metadata": {},
   "outputs": [],
   "source": [
    "initial_states = [\n",
    "    np.array([0, 0, 0, 1]),\n",
    "    np.array([0, 0, 1, 0]),\n",
    "    np.array([0, 1, 0, 0]),\n",
    "    np.array([1, 0, 0, 0])\n",
    "]\n",
    "\n",
    "\n",
    "target_states = [\n",
    "    np.array([0, 0, 1, 1]),\n",
    "    np.array([0, 1, 0, 1]),\n",
    "    np.array([1, 0, 1, 0]),\n",
    "    np.array([1, 1, 0, 0])\n",
    "]"
   ]
  },
  {
   "cell_type": "markdown",
   "metadata": {},
   "source": [
    "## Defining a circuit\n",
    "\n",
    "The most difficult part of defining a circuit is to choose a good ansatz. Since I don't have a clue of what will work best I will implement a general circuit parametrized. Using 2 rotational qubit gates (Rx and Ry) I can generate all possible states in the Bloch Sphere. Then, I will implement several CNOT gates to entangle all the qubits. \n",
    "\n",
    "I will repeat this layer (rotation gates + CNOT gates) 2 times. The number of layers is a hyperparameter that we may need to tune later.\n",
    "\n",
    "**Important:**  We need to set the parameters for the rotational gates, since I want to generate all possible angles, I will generate random numbers from $0$ to $\\pi$.\n",
    "\n",
    "<font color=red>'NOT COMPLETLY SURE'</font>  \n",
    "In the [tutorial](https://pennylane.ai/qml/demos/tutorial_state_preparation.html) generates random numbers from 0 to pi. This is enough to generat all possible states in the bloch sphere."
   ]
  },
  {
   "cell_type": "code",
   "execution_count": 3,
   "metadata": {},
   "outputs": [],
   "source": [
    "n_qubits = 4\n",
    "n_layers = 2\n",
    "n_rotations = 2\n",
    "\n",
    "# randomly initialize parameters from a normal distribution\n",
    "params = np.random.normal(0, np.pi, (n_qubits, n_layers, n_rotations))\n",
    "params = Variable(torch.tensor(params), requires_grad=True)\n",
    "\n",
    "def circuit_layer(n_qubits: int , params: np.array, layer_lvl: int):\n",
    "    for i in range(n_qubits):\n",
    "        qml.RX(params[i, layer_lvl, 0], wires=i)\n",
    "        qml.RY(params[i, layer_lvl, 1], wires=i)\n",
    "\n",
    "    # Entangling all qubits\n",
    "    qml.broadcast(qml.CNOT, wires=range(n_qubits), pattern=\"all_to_all\")"
   ]
  },
  {
   "cell_type": "markdown",
   "metadata": {},
   "source": [
    "Now, we will define our circuit in 3 steps: \n",
    "\n",
    "\n",
    "**1. Initialize in the right state.**  \n",
    "All circuits start with all qubits in the zero state, $\\lvert 0\\rangle$. Using ```qml.BasisState``` our circuit will start with the state of our choice: $\\lvert 0001 \\rangle$ or $\\lvert 0010 \\rangle$, etc.\n",
    "\n",
    "**2. Implement the layer.**  \n",
    "Using a simple for loop we can add as many layers as we want.\n",
    "\n",
    "**3. Measurement.**    \n",
    "In this last step, we will measure the **fidelity** between the **output state** and **target state**. The fidelity is a value between 0 (orthogonal) or 1 (equal) that measure the closeness between two states, in other words, it measures if both states are similar or not. "
   ]
  },
  {
   "cell_type": "code",
   "execution_count": 4,
   "metadata": {},
   "outputs": [],
   "source": [
    "dev = qml.device(\"default.qubit\", wires=n_qubits)\n",
    "\n",
    "@qml.qnode(dev, interface=\"torch\")\n",
    "def circuit(params, initial_state, fidelity_op, n_layers):\n",
    "    n_qubits = len(initial_state)\n",
    "\n",
    "    qml.BasisState(initial_state, wires=range(n_qubits))\n",
    "    \n",
    "    for layer_lvl in range(n_layers):\n",
    "        circuit_layer(n_qubits, params, layer_lvl)\n",
    "\n",
    "    return qml.expval(qml.Hermitian(fidelity_op, wires=range(n_qubits)))"
   ]
  },
  {
   "cell_type": "markdown",
   "metadata": {},
   "source": [
    "## Define a cost function\n",
    "\n",
    "The cost function helps the circuit to find the target state. In this case, our cost function will be the fidelity, so we can simply define our cost function as:\n",
    "\n",
    "$$ C(\\theta) = \\sum \\big( 1-\\langle \\psi_o(\\theta) \\lvert \\psi_t \\rangle \\big) ^2 $$\n",
    "\n",
    "where $\\theta$ are the variational parameters that the circuit needs to tune, $\\psi_o$ is the output state, $\\psi_t$ is one of the target states that we have define in the begining and $\\langle \\psi_o(\\theta) \\lvert \\psi_t \\rangle$ is how the fidelity is computed.\n",
    "\n",
    "\n",
    "### Explaining fidelity_op (Extra)\n",
    "\n",
    "_I have written this subsection in case someone needs to understand how to implement the fidelity operator._\n",
    "\n",
    "Suppose I have the inital state $\\lvert 00 \\rangle$ and our target is $\\lvert 01 \\rangle$. If our quantum circuit doesn't works properly it can outputs states like:\n",
    "- $\\lvert 10 \\rangle$\n",
    "- $\\lvert 11 \\rangle$.  \n",
    "\n",
    "But which state is closer to the target? In order to answer this question we can compute the fidelity operator of our target state ($\\lvert 01 \\rangle \\langle 01 \\rvert$).\n",
    "$$ \\lvert 01 \\rangle \\langle 01 \\rvert = \\begin{pmatrix}\n",
    "0 & 0 & 0 & 0 \\\\\n",
    "0 & 1 & 0 & 0 \\\\\n",
    "0 & 0 & 0 & 0 \\\\\n",
    "0 & 0 & 0 & 0 \\\\\n",
    "\\end{pmatrix}$$\n",
    "\n",
    "And measure how close each state is:  \n",
    "**State  $\\lvert 10 \\rangle$**:\n",
    "\n",
    "$$ \\begin{pmatrix}\n",
    "0 & 0 & 0 & 0 \\\\\n",
    "0 & 1 & 0 & 0 \\\\\n",
    "0 & 0 & 0 & 0 \\\\\n",
    "0 & 0 & 0 & 0 \\\\\n",
    "\\end{pmatrix}\n",
    "\\begin{pmatrix}\n",
    "0  \\\\\n",
    "0  \\\\\n",
    "1  \\\\\n",
    "0  \\\\\n",
    "\\end{pmatrix}\n",
    "= 0$$ \n",
    "\n",
    "**State  $\\lvert 11 \\rangle$**:\n",
    "\n",
    "$$ \\begin{pmatrix}\n",
    "0 & 0 & 0 & 0 \\\\\n",
    "0 & 1 & 0 & 0 \\\\\n",
    "0 & 0 & 0 & 0 \\\\\n",
    "0 & 0 & 0 & 0 \\\\\n",
    "\\end{pmatrix}\n",
    "\\begin{pmatrix}\n",
    "0  \\\\\n",
    "0  \\\\\n",
    "0  \\\\\n",
    "1  \\\\\n",
    "\\end{pmatrix}\n",
    "= 0$$ \n",
    "\n",
    "**IMPORTANT**\n",
    "\n",
    "Even though state $\\lvert 11 \\rangle$ is closer to $\\lvert 01 \\rangle$ (there is only 1 qubit wrong), the fidelity interprets that both $\\lvert 11 \\rangle$ and $\\lvert 10 \\rangle$ are far away from $\\lvert 01 \\rangle$.\n",
    "\n",
    "<font color=red>'ASK'</font>  \n",
    "_Perhaps the fidelity is not a good cost function for this case. <font color=red>Future myself answer this question</font>_"
   ]
  },
  {
   "cell_type": "code",
   "execution_count": 5,
   "metadata": {},
   "outputs": [],
   "source": [
    "def tensor_product(matrices: list):\n",
    "    if len(matrices)==2:\n",
    "        return np.kron(matrices[0], matrices[1], requires_grad=False)\n",
    "    return np.kron(matrices[0], tensor_product(matrices[1:]), requires_grad=False)\n",
    "\n",
    "\n",
    "def density_matrix(state: np.array):\n",
    "    # Define |0> and |1>\n",
    "    zero_state = np.array([1, 0], requires_grad=False)\n",
    "    one_state = np.array([0, 1], requires_grad=False)\n",
    "\n",
    "    # Computes density matrix\n",
    "    matrices = [zero_state if qubit_state == 0 else one_state for qubit_state in state]\n",
    "    vector = tensor_product(matrices)\n",
    "    return np.outer(vector, np.conj(vector), requires_grad=False)\n",
    "\n",
    "\n",
    "def cost(params, initial_states, target_states, n_layers):\n",
    "    loss = 0\n",
    "    fidelity_operators = [density_matrix(i) for i in target_states]\n",
    "    for i in range(len(target_states)):\n",
    "        fidelity = circuit(params, initial_states[i], fidelity_operators[i], n_layers)\n",
    "        loss += (1 - fidelity) ** 2\n",
    "\n",
    "    return loss / len(target_states)"
   ]
  },
  {
   "cell_type": "markdown",
   "metadata": {},
   "source": [
    "To find the best parameters I use the code that you can find in this [tutorial](https://pennylane.ai/qml/demos/tutorial_state_preparation.html). Using a classical optimizer we can find the best parameters that minimize the previous cost function."
   ]
  },
  {
   "cell_type": "code",
   "execution_count": 6,
   "metadata": {},
   "outputs": [
    {
     "name": "stdout",
     "output_type": "stream",
     "text": [
      "Cost after 0 steps is 0.8170\n"
     ]
    },
    {
     "name": "stderr",
     "output_type": "stream",
     "text": [
      "/media/gllodra12/extended_linux/Projectes/Quantum_projects/qosf/qosf_2021_09/venv/lib/python3.8/site-packages/torch/autograd/__init__.py:147: UserWarning: Casting complex values to real discards the imaginary part (Triggered internally at  ../aten/src/ATen/native/Copy.cpp:240.)\n",
      "  Variable._execution_engine.run_backward(\n"
     ]
    },
    {
     "name": "stdout",
     "output_type": "stream",
     "text": [
      "Cost after 10 steps is 0.6030\n",
      "Cost after 20 steps is 0.3905\n",
      "Cost after 30 steps is 0.3942\n",
      "Cost after 40 steps is 0.3764\n",
      "Cost after 50 steps is 0.3772\n",
      "Cost after 60 steps is 0.3754\n",
      "Cost after 70 steps is 0.3752\n",
      "Cost after 80 steps is 0.3751\n",
      "Cost after 90 steps is 0.3750\n",
      "Cost after 100 steps is 0.3750\n",
      "Cost after 110 steps is 0.3750\n",
      "Cost after 120 steps is 0.3750\n",
      "Cost after 130 steps is 0.3750\n",
      "Cost after 140 steps is 0.3750\n",
      "Cost after 150 steps is 0.3750\n",
      "Cost after 160 steps is 0.3750\n",
      "Cost after 170 steps is 0.3750\n",
      "Cost after 180 steps is 0.3750\n",
      "Cost after 190 steps is 0.3750\n",
      "Cost after 200 steps is 0.3750\n"
     ]
    }
   ],
   "source": [
    "# set up the optimizer\n",
    "opt = torch.optim.Adam([params], lr=0.1)\n",
    "\n",
    "# number of steps in the optimization routine\n",
    "steps = 200\n",
    "\n",
    "# the final stage of optimization isn't always the best, so we keep track of\n",
    "# the best parameters along the way\n",
    "best_cost = cost(params, initial_states, target_states, n_layers)\n",
    "best_params = np.zeros((n_qubits, n_layers, n_rotations))\n",
    "\n",
    "print(\"Cost after 0 steps is {:.4f}\".format(best_cost))\n",
    "\n",
    "# optimization begins\n",
    "for n in range(steps):\n",
    "    opt.zero_grad()\n",
    "    loss = cost(params, initial_states, target_states, n_layers)\n",
    "    loss.backward()\n",
    "    opt.step()\n",
    "\n",
    "    # keeps track of best parameters\n",
    "    if loss < best_cost:\n",
    "        best_cost = loss\n",
    "        best_params = params\n",
    "\n",
    "    # Keep track of progress every 10 steps\n",
    "    if n % 10 == 9 or n == steps - 1:\n",
    "        print(\"Cost after {} steps is {:.4f}\".format(n + 1, loss))"
   ]
  },
  {
   "cell_type": "markdown",
   "metadata": {},
   "source": [
    "This results don't look really promising, perhaps we will need to increase the number of layers.  "
   ]
  },
  {
   "cell_type": "code",
   "execution_count": 7,
   "metadata": {},
   "outputs": [
    {
     "name": "stdout",
     "output_type": "stream",
     "text": [
      "From the initial state [0 0 0 1] we get an output with fidelity 0.0000\n",
      "From the initial state [0 0 1 0] we get an output with fidelity 0.5000\n",
      "From the initial state [0 1 0 0] we get an output with fidelity 0.5000\n",
      "From the initial state [1 0 0 0] we get an output with fidelity 0.9993\n"
     ]
    }
   ],
   "source": [
    "def check_results(best_params, initial_states, target_states, n_layers):\n",
    "    fidelity_operators = [density_matrix(i) for i in target_states]\n",
    "    \n",
    "    for initial_state, fidelity_op in zip(initial_states, fidelity_operators):\n",
    "        fidelity = circuit(best_params, initial_state, fidelity_op, n_layers)\n",
    "        print(\"From the initial state {} we get an output with fidelity {:.4f}\".format(initial_state, fidelity))\n",
    "\n",
    "check_results(best_params, initial_states, target_states, n_layers=2)"
   ]
  },
  {
   "cell_type": "markdown",
   "metadata": {},
   "source": [
    "## Conclusion 1st circuit\n",
    "\n",
    "Our circuit is not able to generate the target states. We only get a good result with the input $\\lvert 1000 \\rangle$ because its fidelity is close to 1, which means that the output state is really close to the target state, $\\lvert 1100 \\rangle$.\n",
    "\n",
    "Let's see if increasing the number of layers our results will improve."
   ]
  },
  {
   "cell_type": "code",
   "execution_count": 8,
   "metadata": {},
   "outputs": [],
   "source": [
    "def train(initial_states, target_states, n_layers, verbose=True):\n",
    "    n_qubits = initial_states[0].size\n",
    "\n",
    "    # Total of rotations gates (Rx and Ry)\n",
    "    n_rotations = 2\n",
    "    \n",
    "    # Setting intial parameters\n",
    "    params = np.random.normal(0, np.pi, (n_qubits, n_layers, n_rotations))\n",
    "    params = Variable(torch.tensor(params), requires_grad=True)\n",
    "    \n",
    "    # Computing the best parameters\n",
    "    opt = torch.optim.Adam([params], lr=0.1)\n",
    "\n",
    "    # number of steps in the optimization routine\n",
    "    steps = 200\n",
    "\n",
    "    # the final stage of optimization isn't always the best, so we keep track of the best parameters along the way\n",
    "    best_cost = cost(params, initial_states, target_states, n_layers)\n",
    "    best_params = np.zeros((n_qubits, n_layers, n_rotations))\n",
    "\n",
    "    if verbose:\n",
    "        print(\"Cost after 0 steps is {:.4f}\".format(best_cost))\n",
    "\n",
    "    # optimization begins\n",
    "    for n in range(steps):\n",
    "        opt.zero_grad()\n",
    "        loss = cost(params, initial_states, target_states, n_layers)\n",
    "        loss.backward()\n",
    "        opt.step()\n",
    "\n",
    "        # keeps track of best parameters\n",
    "        if loss < best_cost:\n",
    "            best_cost = loss\n",
    "            best_params = params\n",
    "\n",
    "        # Keep track of progress every 10 steps\n",
    "        if n % 10 == 9 or n == steps - 1:\n",
    "            if verbose:\n",
    "                print(\"Cost after {} steps is {:.4f}\".format(n + 1, loss))\n",
    "    \n",
    "    return best_params, loss"
   ]
  },
  {
   "cell_type": "code",
   "execution_count": 9,
   "metadata": {},
   "outputs": [
    {
     "name": "stdout",
     "output_type": "stream",
     "text": [
      "Cost after 0 steps is 0.7972\n",
      "Cost after 10 steps is 0.1736\n",
      "Cost after 20 steps is 0.1116\n",
      "Cost after 30 steps is 0.0494\n",
      "Cost after 40 steps is 0.0249\n",
      "Cost after 50 steps is 0.0213\n",
      "Cost after 60 steps is 0.0176\n",
      "Cost after 70 steps is 0.0148\n",
      "Cost after 80 steps is 0.0130\n",
      "Cost after 90 steps is 0.0109\n",
      "Cost after 100 steps is 0.0086\n",
      "Cost after 110 steps is 0.0069\n",
      "Cost after 120 steps is 0.0060\n",
      "Cost after 130 steps is 0.0055\n",
      "Cost after 140 steps is 0.0052\n",
      "Cost after 150 steps is 0.0049\n",
      "Cost after 160 steps is 0.0047\n",
      "Cost after 170 steps is 0.0045\n",
      "Cost after 180 steps is 0.0042\n",
      "Cost after 190 steps is 0.0040\n",
      "Cost after 200 steps is 0.0038\n"
     ]
    }
   ],
   "source": [
    "best_params_10, _ = train(initial_states, target_states, 10)"
   ]
  },
  {
   "cell_type": "code",
   "execution_count": 10,
   "metadata": {},
   "outputs": [
    {
     "name": "stdout",
     "output_type": "stream",
     "text": [
      "From the initial state [0 0 0 1] we get an output with fidelity 0.9375\n",
      "From the initial state [0 0 1 0] we get an output with fidelity 0.9435\n",
      "From the initial state [0 1 0 0] we get an output with fidelity 0.9361\n",
      "From the initial state [1 0 0 0] we get an output with fidelity 0.9362\n"
     ]
    }
   ],
   "source": [
    "check_results(best_params_10, initial_states, target_states, n_layers=10)"
   ]
  },
  {
   "cell_type": "markdown",
   "metadata": {},
   "source": [
    "## Conclusion 2nd circuit\n",
    "\n",
    "Much better!\n",
    "\n",
    "Using 10 layers our circuit is able to generate output states that are REALLY close to the target states. We could increase the number of layers on our system but the results wouldn't improve drastically.\n",
    "\n",
    "<font color=red>'ASK'</font>  \n",
    "Why I need to use CNOT gates if neither the initial state nor the output state has entanglement???"
   ]
  },
  {
   "cell_type": "code",
   "execution_count": 11,
   "metadata": {},
   "outputs": [
    {
     "name": "stdout",
     "output_type": "stream",
     "text": [
      "Computing layer= 2\n",
      "Computing layer= 3\n",
      "Computing layer= 4\n",
      "Computing layer= 5\n",
      "Computing layer= 6\n",
      "Computing layer= 7\n",
      "Computing layer= 8\n",
      "Computing layer= 9\n",
      "Computing layer= 10\n",
      "Computing layer= 11\n",
      "Computing layer= 12\n",
      "Computing layer= 13\n"
     ]
    }
   ],
   "source": [
    "layers = range(2, 14)\n",
    "loss_list = list()\n",
    "\n",
    "for n_layers in layers:\n",
    "    print(\"Computing layer=\", n_layers)\n",
    "    _, loss = train(initial_states, target_states, n_layers, verbose=False)\n",
    "    loss_list.append(loss.data)"
   ]
  },
  {
   "cell_type": "code",
   "execution_count": 14,
   "metadata": {},
   "outputs": [
    {
     "data": {
      "text/plain": [
       "Text(0, 0.5, 'loss')"
      ]
     },
     "execution_count": 14,
     "metadata": {},
     "output_type": "execute_result"
    },
    {
     "data": {
      "image/png": "[encoded data removed]",
      "text/plain": [
       "<Figure size 432x288 with 1 Axes>"
      ]
     },
     "metadata": {
      "needs_background": "light"
     },
     "output_type": "display_data"
    }
   ],
   "source": [
    "plt.plot(layers, loss_list)\n",
    "plt.title(\"Minimum loss for each layer\")\n",
    "plt.xlabel(\"# layers\")\n",
    "plt.ylabel(\"loss\")"
   ]
  },
  {
   "cell_type": "markdown",
   "metadata": {},
   "source": [
    "## What would happen if we provided a different input state? \n",
    "\n",
    "Our model is able to perform the initial task proposed in the introduction. But what will happen if we have a different input state.\n",
    "\n",
    "- Will this input state become one of the target states?\n",
    "- Will this input state become a totally different state?\n",
    "\n",
    "In order to answer these questions, we will check if the fidelity is close to any of the target states?"
   ]
  },
  {
   "cell_type": "code",
   "execution_count": 15,
   "metadata": {},
   "outputs": [
    {
     "name": "stdout",
     "output_type": "stream",
     "text": [
      "From the initial state [0 1 1 1] we get an output with fidelity 0.0015\n",
      "From the initial state [0 1 1 1] we get an output with fidelity 0.0095\n",
      "From the initial state [0 1 1 1] we get an output with fidelity 0.0064\n",
      "From the initial state [0 1 1 1] we get an output with fidelity 0.0218\n"
     ]
    }
   ],
   "source": [
    "initial_states = [\n",
    "    np.array([0, 1, 1, 1]),\n",
    "    np.array([0, 1, 1, 1]),\n",
    "    np.array([0, 1, 1, 1]),\n",
    "    np.array([0, 1, 1, 1])\n",
    "]\n",
    "\n",
    "check_results(best_params_10, initial_states, target_states, n_layers=10)"
   ]
  },
  {
   "cell_type": "markdown",
   "metadata": {},
   "source": [
    "The state $\\lvert 0111 \\rangle $ is map to a completly new state that is not close to any of the target states. Hence, our model is not overfitted to the 4 predefined targets.\n",
    "\n",
    "_For some readers this may come as no surprise since if we apply different inputs to the same transformations (Rx, Ry, CNOT) it will usually generate different outputs._"
   ]
  },
  {
   "cell_type": "markdown",
   "metadata": {},
   "source": [
    "## References\n",
    "\n",
    "1. Training a circuit with PyTorch: https://pennylane.ai/qml/demos/tutorial_state_preparation.html\n",
    "2. Cost function: https://pennylane.ai/qml/demos/tutorial_data_reuploading_classifier.html\n",
    "\n",
    "\n",
    "## Future steps\n",
    "\n",
    "- Train the VQA using a totally random input state.\n",
    "- Use a different cost function, try implemeting the cost function in this [tutorial](https://pennylane.ai/qml/demos/tutorial_state_preparation.html).\n",
    "- Plot probabilities of measuring different states.  \n",
    "_Although fidelity is clear to me, I think that the reader will have a better understanding of the output if I show a bar plot with probabilities_."
   ]
  },
  {
   "cell_type": "markdown",
   "metadata": {},
   "source": [
    "### Extra 1: Random input state\n",
    "\n",
    "In this section I want to see if the circuit is powerful enough to get the predefined targets using any random input state.\n",
    "\n",
    "To generate a random 4-qubit quantum state we will define a computational basis for 4-qubits and add random amplitudes ($c_0, c_1, c_2, c_3$).\n",
    "\n",
    "$$ \\psi = c_0\\lvert 0 \\rangle + c_1\\lvert 1 \\rangle + c_2\\lvert 2 \\rangle + c_3\\lvert 3 \\rangle $$\n",
    "\n",
    "Recall that the quantum state must be normalized, so we need to impose the following constraint when we generate random values: \n",
    "\n",
    "$$|c_0|^2+|c_1|^2+|c_2|^2+|c_3|^2=1$$"
   ]
  },
  {
   "cell_type": "code",
   "execution_count": 108,
   "metadata": {},
   "outputs": [],
   "source": [
    "dev2 = qml.device(\"default.qubit\", wires=n_qubits)\n",
    "def get_angles(n_qubits, n_rotations):\n",
    "    return numpy.random.uniform(low=-np.pi, high=np.pi, size=(n_qubits, n_rotations))\n",
    "\n",
    "\n",
    "@qml.qnode(dev2, interface=\"torch\")\n",
    "def circuit_random_input(params, random_angles, fidelity_op, n_layers):\n",
    "    n_qubits = len(random_angles)\n",
    "\n",
    "    # Initial state is random\n",
    "    for i in range(n_qubits):\n",
    "        qml.RX(random_angles[i, 0], wires=i)\n",
    "        qml.RY(random_angles[i, 1], wires=i)\n",
    "    \n",
    "    for layer_lvl in range(n_layers):\n",
    "        circuit_layer(n_qubits, params, layer_lvl)\n",
    "\n",
    "    return qml.expval(qml.Hermitian(fidelity_op, wires=range(n_qubits)))"
   ]
  },
  {
   "cell_type": "code",
   "execution_count": 109,
   "metadata": {},
   "outputs": [],
   "source": [
    "def cost_random_input(params, random_angles, target_states, n_layers):\n",
    "    loss = 0\n",
    "    fidelity_operators = [density_matrix(i) for i in target_states]\n",
    "    for i in range(len(target_states)):\n",
    "        \n",
    "        fidelity = circuit_random_input(params, random_angles[i], fidelity_operators[i], n_layers)\n",
    "        loss += (1 - fidelity) ** 2\n",
    "\n",
    "    return loss / len(target_states)"
   ]
  },
  {
   "cell_type": "code",
   "execution_count": 110,
   "metadata": {},
   "outputs": [],
   "source": [
    "def train(random_angles, target_states, n_layers, verbose=True):\n",
    "    n_qubits = initial_states[0].size\n",
    "\n",
    "    # Total of rotations gates (Rx and Ry)\n",
    "    n_rotations = 2\n",
    "    \n",
    "    # Setting intial parameters\n",
    "    params = np.random.normal(0, np.pi, (n_qubits, n_layers, n_rotations))\n",
    "    params = Variable(torch.tensor(params), requires_grad=True)\n",
    "    \n",
    "    # Computing the best parameters\n",
    "    opt = torch.optim.Adam([params], lr=0.1)\n",
    "\n",
    "    # number of steps in the optimization routine\n",
    "    steps = 200\n",
    "\n",
    "    # the final stage of optimization isn't always the best, so we keep track of the best parameters along the way\n",
    "    best_cost = cost_random_input(params, random_angles, target_states, n_layers)\n",
    "    best_params = np.zeros((n_qubits, n_layers, n_rotations))\n",
    "\n",
    "    if verbose:\n",
    "        print(\"Cost after 0 steps is {:.4f}\".format(best_cost))\n",
    "\n",
    "    # optimization begins\n",
    "    for n in range(steps):\n",
    "        opt.zero_grad()\n",
    "        loss = cost_random_input(params, random_angles, target_states, n_layers)\n",
    "        loss.backward()\n",
    "        opt.step()\n",
    "\n",
    "        # keeps track of best parameters\n",
    "        if loss < best_cost:\n",
    "            best_cost = loss\n",
    "            best_params = params\n",
    "\n",
    "        # Keep track of progress every 10 steps\n",
    "        if n % 10 == 9 or n == steps - 1:\n",
    "            if verbose:\n",
    "                print(\"Cost after {} steps is {:.4f}\".format(n + 1, loss))\n",
    "    \n",
    "    return best_params, loss"
   ]
  },
  {
   "cell_type": "code",
   "execution_count": 111,
   "metadata": {},
   "outputs": [
    {
     "name": "stdout",
     "output_type": "stream",
     "text": [
      "Cost after 0 steps is 0.8475\n",
      "Cost after 10 steps is 0.2007\n",
      "Cost after 20 steps is 0.0931\n",
      "Cost after 30 steps is 0.0510\n",
      "Cost after 40 steps is 0.0366\n",
      "Cost after 50 steps is 0.0273\n",
      "Cost after 60 steps is 0.0216\n",
      "Cost after 70 steps is 0.0179\n",
      "Cost after 80 steps is 0.0151\n",
      "Cost after 90 steps is 0.0130\n",
      "Cost after 100 steps is 0.0116\n",
      "Cost after 110 steps is 0.0107\n",
      "Cost after 120 steps is 0.0103\n",
      "Cost after 130 steps is 0.0100\n",
      "Cost after 140 steps is 0.0098\n",
      "Cost after 150 steps is 0.0096\n",
      "Cost after 160 steps is 0.0095\n",
      "Cost after 170 steps is 0.0094\n",
      "Cost after 180 steps is 0.0093\n",
      "Cost after 190 steps is 0.0093\n",
      "Cost after 200 steps is 0.0092\n"
     ]
    }
   ],
   "source": [
    "n_qubits = 4\n",
    "n_rotations = 2\n",
    "random_angles = [\n",
    "    get_angles(n_qubits, n_rotations),\n",
    "    get_angles(n_qubits, n_rotations),\n",
    "    get_angles(n_qubits, n_rotations),\n",
    "    get_angles(n_qubits, n_rotations)\n",
    "]\n",
    "\n",
    "best_params_10_random, _ = train(random_angles, target_states, 10)"
   ]
  },
  {
   "cell_type": "code",
   "execution_count": 112,
   "metadata": {},
   "outputs": [
    {
     "name": "stdout",
     "output_type": "stream",
     "text": [
      "From the initial state [[-0.08855378 -1.57165424]\n",
      " [ 2.65706645  1.377499  ]\n",
      " [-0.5878746   2.14034843]\n",
      " [ 0.34437392  2.23182031]] we get an output with fidelity 0.0434\n",
      "From the initial state [[-1.2326853  -3.07984891]\n",
      " [ 0.69989569  0.94409433]\n",
      " [-1.91104108 -2.09554331]\n",
      " [ 2.66857245 -0.48458581]] we get an output with fidelity 0.0655\n",
      "From the initial state [[-0.35346274  2.5456956 ]\n",
      " [ 2.16778511 -2.53245629]\n",
      " [-1.42096702  2.19848307]\n",
      " [ 2.98342779 -3.10523836]] we get an output with fidelity 0.1660\n",
      "From the initial state [[-2.57758387 -1.37407536]\n",
      " [ 2.58046831 -1.2032229 ]\n",
      " [ 2.79449017  2.96541478]\n",
      " [-0.93978942 -0.66409163]] we get an output with fidelity 0.0590\n"
     ]
    }
   ],
   "source": [
    "def check_results(best_params, initial_states, target_states, n_layers):\n",
    "    fidelity_operators = [density_matrix(i) for i in target_states]\n",
    "    \n",
    "    for initial_state, fidelity_op in zip(initial_states, fidelity_operators):\n",
    "        fidelity = circuit_random_input(best_params, initial_state, fidelity_op, n_layers)\n",
    "        print(\"From the initial state {} we get an output with fidelity {:.4f}\".format(initial_state, fidelity))\n",
    "\n",
    "\n",
    "check_results(best_params_10_random, random_angles, target_states, n_layers=2)"
   ]
  }
 ],
 "metadata": {
  "kernelspec": {
   "display_name": "qosf_2021_09",
   "language": "python",
   "name": "qosf_2021_09"
  },
  "language_info": {
   "codemirror_mode": {
    "name": "ipython",
    "version": 3
   },
   "file_extension": ".py",
   "mimetype": "text/x-python",
   "name": "python",
   "nbconvert_exporter": "python",
   "pygments_lexer": "ipython3",
   "version": "3.8.10"
  }
 },
 "nbformat": 4,
 "nbformat_minor": 4
}
